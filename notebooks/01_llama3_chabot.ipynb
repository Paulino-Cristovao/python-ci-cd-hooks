{
 "cells": [
  {
   "cell_type": "code",
   "execution_count": 1,
   "metadata": {},
   "outputs": [],
   "source": [
    "# 🚀 Load the Smallest LLaMA 3 Model & Create a Chatbot"
   ]
  },
  {
   "cell_type": "code",
   "execution_count": 9,
   "metadata": {},
   "outputs": [],
   "source": [
    "import torch\n",
    "from transformers import AutoModelForCausalLM, AutoTokenizer"
   ]
  },
  {
   "cell_type": "code",
   "execution_count": 10,
   "metadata": {},
   "outputs": [
    {
     "name": "stdout",
     "output_type": "stream",
     "text": [
      "Using device: cpu\n"
     ]
    }
   ],
   "source": [
    "# ✅ Device Selection (MPS for Mac, CUDA for NVIDIA, fallback to CPU)\n",
    "device: torch.device = torch.device(\n",
    "    \"mps\" if torch.backends.mps.is_available() else \n",
    "    \"cuda\" if torch.cuda.is_available() else \n",
    "    \"cpu\"\n",
    ")\n",
    "print(f\"Using device: {device}\")"
   ]
  },
  {
   "cell_type": "code",
   "execution_count": 11,
   "metadata": {},
   "outputs": [],
   "source": [
    "# ✅ Set up model name\n",
    "model_name = \"deepseek-ai/DeepSeek-R1\" "
   ]
  },
  {
   "cell_type": "code",
   "execution_count": 14,
   "metadata": {},
   "outputs": [],
   "source": [
    "# ✅ Load DeepSeek Model & Tokenizer\n",
    "model_name: str = \"deepseek-ai/deepseek-coder-1.3b-base\"\n",
    "tokenizer = AutoTokenizer.from_pretrained(model_name, trust_remote_code=True)\n",
    "model = AutoModelForCausalLM.from_pretrained(model_name, trust_remote_code=True, torch_dtype=torch.bfloat16).to(device)"
   ]
  },
  {
   "cell_type": "code",
   "execution_count": 15,
   "metadata": {},
   "outputs": [],
   "source": [
    "# Perform Inference\n",
    "def chat_with_deepseek(input_text: str, max_length: int = 50) -> tuple[str, int]:\n",
    "    \"\"\"\n",
    "    Generates text using the DeepSeek model.\n",
    "\n",
    "    Args:\n",
    "        input_text (str): User input query.\n",
    "        max_length (int): Maximum length of generated text.\n",
    "\n",
    "    Returns:\n",
    "        tuple[str, int]: Generated text and word count.\n",
    "    \"\"\"\n",
    "    # ✅ Tokenize input and move to device\n",
    "    input_ids: torch.Tensor = tokenizer.encode(input_text, return_tensors=\"pt\").to(device)\n",
    "\n",
    "    # ✅ Generate response\n",
    "    with torch.no_grad():\n",
    "        output: torch.Tensor = model.generate(input_ids, max_length=max_length, num_return_sequences=1)\n",
    "\n",
    "    # ✅ Decode output text\n",
    "    output_text: str = tokenizer.decode(output[0], skip_special_tokens=True)\n",
    "\n",
    "    # ✅ Count words\n",
    "    word_count: int = len(output_text.split())\n",
    "\n",
    "    return output_text, word_count"
   ]
  },
  {
   "cell_type": "code",
   "execution_count": null,
   "metadata": {},
   "outputs": [
    {
     "name": "stderr",
     "output_type": "stream",
     "text": [
      "The attention mask and the pad token id were not set. As a consequence, you may observe unexpected behavior. Please pass your input's `attention_mask` to obtain reliable results.\n",
      "Setting `pad_token_id` to `eos_token_id`:32014 for open-end generation.\n",
      "The attention mask is not set and cannot be inferred from input because pad token is same as eos token. As a consequence, you may observe unexpected behavior. Please pass your input's `attention_mask` to obtain reliable results.\n"
     ]
    }
   ],
   "source": [
    "# ✅ Example usage\n",
    "input_text: str = \"What is the capital of Japan?\"\n",
    "generated_text, word_count = chat_with_deepseek(input_text)"
   ]
  },
  {
   "cell_type": "code",
   "execution_count": null,
   "metadata": {},
   "outputs": [],
   "source": []
  }
 ],
 "metadata": {
  "kernelspec": {
   "display_name": "py-learn-py310",
   "language": "python",
   "name": "python3"
  },
  "language_info": {
   "codemirror_mode": {
    "name": "ipython",
    "version": 3
   },
   "file_extension": ".py",
   "mimetype": "text/x-python",
   "name": "python",
   "nbconvert_exporter": "python",
   "pygments_lexer": "ipython3",
   "version": "3.10.16"
  }
 },
 "nbformat": 4,
 "nbformat_minor": 2
}
